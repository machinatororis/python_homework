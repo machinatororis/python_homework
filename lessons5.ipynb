{
 "cells": [
  {
   "cell_type": "markdown",
   "source": [
    "## Послідовності"
   ],
   "metadata": {
    "collapsed": false
   },
   "id": "651f766b01640019"
  },
  {
   "cell_type": "markdown",
   "source": [
    "#### Завдання 1 \n",
    "###### Створіть програму, яка зчитує рядок, в якому знаходиться ПІБ користувача і перевіряє, чи складається рядок з літер, при чому кожне слово має бути записане з великої літери. Вивести результат на екран."
   ],
   "metadata": {
    "collapsed": false
   },
   "id": "6d306bb0ea4ac1f3"
  },
  {
   "cell_type": "code",
   "execution_count": 11,
   "outputs": [
    {
     "name": "stdout",
     "output_type": "stream",
     "text": [
      "['Марія', 'Липа']\n",
      "ПІБ введено правильно\n"
     ]
    }
   ],
   "source": [
    "name = input(\"Введіть ПІБ з великої літери: \")\n",
    "\n",
    "words = name.split()\n",
    "is_valid = True\n",
    "\n",
    "for i in words:\n",
    "   if not i.isalpha() or i[0].islower():\n",
    "       is_valid = False\n",
    "       break\n",
    "\n",
    "if is_valid:\n",
    "   print(f\"{words}\\nПІБ введено правильно\")\n",
    "\n",
    "else:\n",
    "   print(f\"{words}\\nПІБ введено не вірно.\\nВикористовуйте, будь ласка, великі літери\")\n"
   ],
   "metadata": {
    "collapsed": false,
    "ExecuteTime": {
     "end_time": "2023-11-30T21:01:56.894367200Z",
     "start_time": "2023-11-30T21:01:48.969332100Z"
    }
   },
   "id": "54125717efeec71b"
  },
  {
   "cell_type": "markdown",
   "source": [
    "#### Завдання 2 \n",
    "###### Напишіть програму, в якій користувач вводить із клавіатури діапазон чисел (в діапазоні має бути не менше 5 чисел). Вивести на екран суму другого, передостаннього, а також середнього арифметичного значення даної послідовності. "
   ],
   "metadata": {
    "collapsed": false
   },
   "id": "e23be4e1bf9fa94d"
  },
  {
   "cell_type": "code",
   "execution_count": null,
   "outputs": [],
   "source": [],
   "metadata": {
    "collapsed": false
   },
   "id": "72283eea85664aa9"
  }
 ],
 "metadata": {
  "kernelspec": {
   "display_name": "Python 3",
   "language": "python",
   "name": "python3"
  },
  "language_info": {
   "codemirror_mode": {
    "name": "ipython",
    "version": 2
   },
   "file_extension": ".py",
   "mimetype": "text/x-python",
   "name": "python",
   "nbconvert_exporter": "python",
   "pygments_lexer": "ipython2",
   "version": "2.7.6"
  }
 },
 "nbformat": 4,
 "nbformat_minor": 5
}
