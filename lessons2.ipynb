{
 "cells": [
  {
   "cell_type": "markdown",
   "source": [
    "#### Завдання 1 \n",
    "###### Напишіть програму, яка запитує у користувача два слова і виводить їх розділеними комою. "
   ],
   "metadata": {
    "collapsed": false
   },
   "id": "ca6fd7df3a163456"
  },
  {
   "cell_type": "code",
   "execution_count": 5,
   "outputs": [
    {
     "name": "stdout",
     "output_type": "stream",
     "text": [
      "a\n",
      "s\n",
      "result: a, s\n"
     ]
    }
   ],
   "source": [
    "word1 = input(\"Enter first word...\")\n",
    "print(word1)\n",
    "word2 = input(\"Enter second word...\")\n",
    "print(word2)\n",
    "print(f'result: {word1}, {word2}')"
   ],
   "metadata": {
    "collapsed": false,
    "ExecuteTime": {
     "end_time": "2023-11-12T11:42:52.459500500Z",
     "start_time": "2023-11-12T11:42:47.912358800Z"
    }
   },
   "id": "cc0965288c151081"
  },
  {
   "cell_type": "markdown",
   "source": [
    "#### Завдання 2 \n",
    "###### Напишіть програму, яка запитує три цілі числа a, b і x та друкує їх добуток."
   ],
   "metadata": {
    "collapsed": false
   },
   "id": "78661055ff3e838f"
  },
  {
   "cell_type": "code",
   "execution_count": 9,
   "outputs": [
    {
     "name": "stdout",
     "output_type": "stream",
     "text": [
      "2\n",
      "3\n",
      "4\n",
      "result: 24\n"
     ]
    }
   ],
   "source": [
    "a = int(input(\"Enter a.\\na = \"))\n",
    "print(a)\n",
    "b = int(input(\"Enter b.\\nb = \"))\n",
    "print(b)\n",
    "x = int(input(\"Enter x.\\nx = \"))\n",
    "print(x)\n",
    "print(f'result: {a * b * x}')"
   ],
   "metadata": {
    "collapsed": false,
    "ExecuteTime": {
     "end_time": "2023-11-12T11:52:15.254582500Z",
     "start_time": "2023-11-12T11:52:09.880275200Z"
    }
   },
   "id": "1440b96e0dceccca"
  },
  {
   "cell_type": "markdown",
   "source": [
    "#### Завдання 3\n",
    "###### Напишіть програму, яка розв'язує квадратне рівняння. Значення a, b та c вводяться з клавіатури. Для знаходження кореня використовуйте оператор зведення в ступінь, а не функцію math.sqrt, щоб отримати комплексні числа у випадку, якщо вираз під коренем негативний. "
   ],
   "metadata": {
    "collapsed": false
   },
   "id": "dfe9e56e842711d7"
  },
  {
   "cell_type": "code",
   "execution_count": 15,
   "outputs": [
    {
     "name": "stdout",
     "output_type": "stream",
     "text": [
      "Рівняння виду: ax^2 + bx + c = 0\n",
      "Введіть коефіцієнти для рівняння:\n",
      "Коефіцієнти: 4.0, 7.0, 245.0\n",
      "Дискримінант D = -3871.0\n",
      "x1 = (-0.8749999999999996+7.77717011515114j) \n",
      "x2 = (-0.8750000000000004-7.77717011515114j)\n"
     ]
    }
   ],
   "source": [
    "print(\"Рівняння виду: ax^2 + bx + c = 0\")\n",
    "print(\"Введіть коефіцієнти для рівняння:\")\n",
    "\n",
    "a = float(input(\"a = \"))\n",
    "b = float(input(\"b = \"))\n",
    "c = float(input(\"c = \"))\n",
    "print(f'Коефіцієнти: {a}, {b}, {c}')\n",
    "\n",
    "d = b ** 2 - 4 * a * c\n",
    "print(f'Дискримінант D = {d}')\n",
    "\n",
    "x1 = (-b + d ** 0.5) / (2 * a)\n",
    "x2 = (-b - d ** 0.5) / (2 * a)\n",
    "print(f'x1 = {x1} \\nx2 = {x2}')"
   ],
   "metadata": {
    "collapsed": false,
    "ExecuteTime": {
     "end_time": "2023-11-12T12:35:07.940217800Z",
     "start_time": "2023-11-12T12:35:02.811960300Z"
    }
   },
   "id": "28595230e31f3f98"
  },
  {
   "cell_type": "markdown",
   "source": [
    "#### Завдання 4 \n",
    "###### Напишіть програму, в якій користувач вводить фразу з клавіатури, яка складається з 10 символів. На екрані виведіть суму ASCII-кодів символів введеного рядка.  "
   ],
   "metadata": {
    "collapsed": false
   },
   "id": "ebb9940fdd43ba77"
  },
  {
   "cell_type": "code",
   "execution_count": 22,
   "outputs": [
    {
     "name": "stdout",
     "output_type": "stream",
     "text": [
      "1074\n",
      "1099\n",
      "1099\n",
      "1074\n",
      "Сума ASCII-кодів: 4346\n"
     ]
    }
   ],
   "source": [
    "phrase = input(\"Введіть фразу із 10 символів\")\n",
    "sum = 0\n",
    "for i in phrase: # вибачте, не знаю, як без циклу це реалізувати\n",
    "    print(ord(i))\n",
    "    sum += ord(i)\n",
    "print(f'Сума ASCII-кодів: {sum}')"
   ],
   "metadata": {
    "collapsed": false,
    "ExecuteTime": {
     "end_time": "2023-11-12T13:30:24.083544800Z",
     "start_time": "2023-11-12T13:30:20.193172600Z"
    }
   },
   "id": "79065e1958d1837f"
  },
  {
   "cell_type": "markdown",
   "source": [
    "#### Завдання 5 \n",
    "###### Напишіть програму, яка вводить з клавіатури текст і виводить його в оберненому порядку."
   ],
   "metadata": {
    "collapsed": false
   },
   "id": "afadb80cc643f9a8"
  },
  {
   "cell_type": "code",
   "execution_count": 24,
   "outputs": [
    {
     "name": "stdout",
     "output_type": "stream",
     "text": [
      "abcd\n",
      "Обернений рядок: dcba\n"
     ]
    }
   ],
   "source": [
    "str = input(\"Введіть рядок\")\n",
    "print(str)\n",
    "str = str[::-1]\n",
    "print(f'Обернений рядок: {str}')"
   ],
   "metadata": {
    "collapsed": false,
    "ExecuteTime": {
     "end_time": "2023-11-12T13:35:13.423733Z",
     "start_time": "2023-11-12T13:35:08.767807100Z"
    }
   },
   "id": "d9427fcdd60f3b17"
  },
  {
   "cell_type": "markdown",
   "source": [
    "#### Завдання 6 \n",
    "###### Напишіть програму, яка запитує користувача радіус круга і виводить його площу."
   ],
   "metadata": {
    "collapsed": false
   },
   "id": "85225df6e1e05e68"
  },
  {
   "cell_type": "code",
   "execution_count": 27,
   "outputs": [
    {
     "name": "stdout",
     "output_type": "stream",
     "text": [
      "4\n",
      "Площа кола: 50.26548245743669\n"
     ]
    }
   ],
   "source": [
    "import math\n",
    "r = int(input(\"Введіть радіус кола\"))\n",
    "print(r)\n",
    "s = math.pi * (r ** 2)\n",
    "print(f'Площа кола: {s}')"
   ],
   "metadata": {
    "collapsed": false,
    "ExecuteTime": {
     "end_time": "2023-11-12T13:40:36.145091100Z",
     "start_time": "2023-11-12T13:40:34.145172Z"
    }
   },
   "id": "4894104ece180f74"
  },
  {
   "cell_type": "markdown",
   "source": [
    "#### Завдання 7 \n",
    "###### Напишіть програму, використовуючи знання про змінні типу цілих чисел, щоб підрахувати, за який час транспортний засіб доїде з пункту А в пункт В, якщо відомі такі дані: відстань від А до В = 700 км, швидкість автомобіля буде постійною та дорівнює 90 км/год. Використовуйте формулу: Час = відстань / швидкість. Створіть змінні length, куди запишіть відстань, velocity, куди запишіть швидкість та змінну driving_time, куди запишіть результат. Після цього використайте метод print(), щоб вивести в консоль результат. "
   ],
   "metadata": {
    "collapsed": false
   },
   "id": "9e104155a63f44f3"
  },
  {
   "cell_type": "code",
   "execution_count": 35,
   "outputs": [
    {
     "name": "stdout",
     "output_type": "stream",
     "text": [
      "Час, за який транспортний засіб доїде з пункту А в пункт В: 7 год.\n"
     ]
    }
   ],
   "source": [
    "length = 700\n",
    "velocity = 90\n",
    "driving_time = length / velocity\n",
    "print(f'Час, за який транспортний засіб доїде з пункту А в пункт В: {int(driving_time)} год.')\n"
   ],
   "metadata": {
    "collapsed": false,
    "ExecuteTime": {
     "end_time": "2023-11-12T16:09:59.518335900Z",
     "start_time": "2023-11-12T16:09:59.424591500Z"
    }
   },
   "id": "198f944978f8d884"
  },
  {
   "cell_type": "markdown",
   "source": [
    "#### Завдання 8 \n",
    "###### Створіть змінну name, age, в якій зберігатиметься ім'я та вік користувача, введене з клавіатури. Виведіть у консоль “My name is and I am ”, але зробіть рішення таким, щоб використовувалася конкатенація рядків (через +) та приведення типу числа до рядка (str(...)). Тобто, щоб якщо замінити змінні name і age, то в методі print() нічого не потрібно було би змінювати. Наприклад, a = 15, print(“Value =” + str(a)) і буде “Value = 15”."
   ],
   "metadata": {
    "collapsed": false
   },
   "id": "611477dfde81984b"
  },
  {
   "cell_type": "code",
   "execution_count": 47,
   "outputs": [
    {
     "name": "stdout",
     "output_type": "stream",
     "text": [
      "<class 'int'>\n",
      "My name is Maria and I am 33\n"
     ]
    },
    {
     "ename": "TypeError",
     "evalue": "'str' object is not callable",
     "output_type": "error",
     "traceback": [
      "\u001B[1;31m---------------------------------------------------------------------------\u001B[0m",
      "\u001B[1;31mTypeError\u001B[0m                                 Traceback (most recent call last)",
      "Cell \u001B[1;32mIn[47], line 5\u001B[0m\n\u001B[0;32m      3\u001B[0m \u001B[38;5;28mprint\u001B[39m(\u001B[38;5;28mtype\u001B[39m(age))\n\u001B[0;32m      4\u001B[0m \u001B[38;5;28mprint\u001B[39m(\u001B[38;5;124mf\u001B[39m\u001B[38;5;124m'\u001B[39m\u001B[38;5;124mMy name is \u001B[39m\u001B[38;5;132;01m{\u001B[39;00mname\u001B[38;5;132;01m}\u001B[39;00m\u001B[38;5;124m and I am \u001B[39m\u001B[38;5;132;01m{\u001B[39;00mage\u001B[38;5;132;01m}\u001B[39;00m\u001B[38;5;124m'\u001B[39m)\n\u001B[1;32m----> 5\u001B[0m \u001B[38;5;28mprint\u001B[39m(\u001B[38;5;124m\"\u001B[39m\u001B[38;5;124mMy name is\u001B[39m\u001B[38;5;124m\"\u001B[39m \u001B[38;5;241m+\u001B[39m name \u001B[38;5;241m+\u001B[39m \u001B[38;5;124m\"\u001B[39m\u001B[38;5;124mand I am\u001B[39m\u001B[38;5;124m\"\u001B[39m \u001B[38;5;241m+\u001B[39m \u001B[38;5;28;43mstr\u001B[39;49m\u001B[43m(\u001B[49m\u001B[43mage\u001B[49m\u001B[43m)\u001B[49m) \u001B[38;5;66;03m# Отримую помилку TypeError: 'str' object is not callable, не знаю чому :(\u001B[39;00m\n",
      "\u001B[1;31mTypeError\u001B[0m: 'str' object is not callable"
     ]
    }
   ],
   "source": [
    "name = \"Maria\"\n",
    "age = 33\n",
    "print(type(age))\n",
    "print(f'My name is {name} and I am {age}')\n",
    "print(\"My name is\" + name + \"and I am\" + str(age)) # Отримую помилку TypeError: 'str' object is not callable, не знаю чому :("
   ],
   "metadata": {
    "collapsed": false,
    "ExecuteTime": {
     "end_time": "2023-11-12T16:24:58.866640600Z",
     "start_time": "2023-11-12T16:24:58.804144300Z"
    }
   },
   "id": "c5dc930f0b020413"
  },
  {
   "cell_type": "code",
   "execution_count": null,
   "outputs": [],
   "source": [],
   "metadata": {
    "collapsed": false
   },
   "id": "36980b477e75b531"
  }
 ],
 "metadata": {
  "kernelspec": {
   "display_name": "Python 3",
   "language": "python",
   "name": "python3"
  },
  "language_info": {
   "codemirror_mode": {
    "name": "ipython",
    "version": 2
   },
   "file_extension": ".py",
   "mimetype": "text/x-python",
   "name": "python",
   "nbconvert_exporter": "python",
   "pygments_lexer": "ipython2",
   "version": "2.7.6"
  }
 },
 "nbformat": 4,
 "nbformat_minor": 5
}
