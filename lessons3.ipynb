{
 "cells": [
  {
   "cell_type": "markdown",
   "source": [
    "#### Завдання 1 \n",
    "###### Напишіть програму, яка запитує у користувача його ім'я, якщо воно збігається з вашим, видає певне повідомлення."
   ],
   "metadata": {
    "collapsed": false
   },
   "id": "dd4a054aaad7f129"
  },
  {
   "cell_type": "code",
   "execution_count": 21,
   "outputs": [
    {
     "name": "stdout",
     "output_type": "stream",
     "text": [
      "22\n",
      "Another name\n",
      "End.\n"
     ]
    }
   ],
   "source": [
    "name = input(\"Enter name...\").lower()\n",
    "print(name.title())\n",
    "if name == \"maria\":\n",
    "    print(f'{name.title()} == \"Maria\"')\n",
    "else:\n",
    "    print(\"Another name\")\n"
   ],
   "metadata": {
    "collapsed": false,
    "ExecuteTime": {
     "end_time": "2023-11-16T19:13:45.285447600Z",
     "start_time": "2023-11-16T19:13:43.019097700Z"
    }
   },
   "id": "c456c6edae490ff6"
  },
  {
   "cell_type": "markdown",
   "source": [
    "#### Завдання 2 \n",
    "###### Напишіть програму, яка обчислює значення функції 𝑦 = cos(3x), де - 𝜋 <= x <= 𝜋 та вводиться з клавіатури. Відповідь подати у радіанах."
   ],
   "metadata": {
    "collapsed": false
   },
   "id": "7e95720026d2a1d2"
  },
  {
   "cell_type": "code",
   "execution_count": null,
   "outputs": [],
   "source": [
    "import math\n",
    "\n",
    "x = float(input(\"Введіть х в межах від мінус числа Пі до Пі\"))\n",
    "print(f\"x = {x}\")\n",
    "\n",
    "if x >= -math.pi or x <= math.pi:\n",
    "    result = math.radians(math.cos(3 * x))\n",
    "    print(f\"result = {result}\")\n",
    "else:\n",
    "    print(\"х за межами умови. Спробуйте ще раз.\")   \n"
   ],
   "metadata": {
    "collapsed": false,
    "is_executing": true
   },
   "id": "f6ef740860221f63"
  },
  {
   "cell_type": "markdown",
   "source": [
    "#### Завдання 3 \n",
    "###### Напишіть програму, яка розв'язує квадратне рівняння 𝑎𝑥 2 + 𝑏𝑥 + 𝑐 = 0 у дійсних числах. На відміну від аналогічної вправи з минулого уроку, програма повинна видавати повідомлення про відсутність дійсних коренів, якщо значення дискримінанта 𝐷 = 𝑏 2 −4𝑎𝑐 негативне, єдине рішення 𝑥 = − 𝑏 / 2𝑎 , якщо він дорівнює нулю, або два корені 𝑥1,2 = −b±D−−√/2a, якщо він позитивний."
   ],
   "metadata": {
    "collapsed": false
   },
   "id": "e7c287c704f10ee9"
  },
  {
   "cell_type": "code",
   "execution_count": 38,
   "outputs": [
    {
     "name": "stdout",
     "output_type": "stream",
     "text": [
      "Рівняння виду: ax^2 + bx + c = 0\n",
      "Введіть коефіцієнти для рівняння:\n",
      "Коефіцієнти: 0.1, 0.2, -4.0\n",
      "Дискримінант D = 1.6400000000000001\n",
      "x1 = 5.4031242374328485 \n",
      "x2 = -7.4031242374328485\n",
      "End.\n"
     ]
    }
   ],
   "source": [
    "import math\n",
    " \n",
    "print(\"Рівняння виду: ax^2 + bx + c = 0\")\n",
    "print(\"Введіть коефіцієнти для рівняння: \")\n",
    "\n",
    "a = float(input(\"a = \"))\n",
    "b = float(input(\"b = \"))\n",
    "c = float(input(\"c = \"))\n",
    "print(f'Коефіцієнти: {a}, {b}, {c}')\n",
    " \n",
    "d = b ** 2 - 4 * a * c\n",
    "print(f'Дискримінант D = {d}')\n",
    " \n",
    "if d > 0:\n",
    "    x1 = (-b + d ** 0.5) / (2 * a)\n",
    "    x2 = (-b - d ** 0.5) / (2 * a)\n",
    "    print(f\"x1 = {x1} \\nx2 = {x2}\")\n",
    "elif d == 0:\n",
    "    x = -b / (2 * a)\n",
    "    print(f\"x = {x}\")\n",
    "else:\n",
    "    print(\"Дійсні корені відсутні\")\n"
   ],
   "metadata": {
    "collapsed": false,
    "ExecuteTime": {
     "end_time": "2023-11-16T19:34:47.627559800Z",
     "start_time": "2023-11-16T19:34:37.420539Z"
    }
   },
   "id": "459b13491263ef6"
  },
  {
   "cell_type": "markdown",
   "source": [
    "#### Завдання 4 \n",
    "###### Напишіть програму-калькулятор, в якій користувач зможе обрати операцію, ввести необхідні числа та отримати результат. Операції, які необхідно реалізувати: додавання, віднімання, множення, ділення, зведення в ступінь, квадратний корінь, кубічний корінь, синус, косинус та тангенс числа. \n",
    "(буде окремим файлом calc.py)"
   ],
   "metadata": {
    "collapsed": false
   },
   "id": "9a3dfebe9dbe8911"
  },
  {
   "cell_type": "markdown",
   "source": [
    "#### Завдання 5 \n",
    "###### Напишіть програму для перевірки введеного числа на ознаку парності. Якщо число парне/непарне – вивести відповідне повідомлення на екран. Для опису цього алгоритму використовувати тернарний оператор. "
   ],
   "metadata": {
    "collapsed": false
   },
   "id": "fa4f36bd6d7b95a3"
  },
  {
   "cell_type": "code",
   "execution_count": 45,
   "outputs": [
    {
     "name": "stdout",
     "output_type": "stream",
     "text": [
      "num = 333333333333333\n",
      "Число непарне\n"
     ]
    }
   ],
   "source": [
    "num = int(input(\"Введіть число\"))\n",
    "print(f\"num = {num}\")\n",
    "\n",
    "print(\"Число парне\") if num % 2 == 0 else print(\"Число непарне\")\n"
   ],
   "metadata": {
    "collapsed": false,
    "ExecuteTime": {
     "end_time": "2023-11-16T19:45:42.887068200Z",
     "start_time": "2023-11-16T19:45:40.402832Z"
    }
   },
   "id": "8ef37e6571a69288"
  },
  {
   "cell_type": "markdown",
   "source": [
    "#### Завдання 6\n",
    "###### Написати програму визначення днів тижня. Дані про день тижня вводяться користувачем з клавіатури. Якщо будній день - виводити на екран повідомлення \"Сьогодні на роботу\", у вихідні дні - \"Сьогодні вихідний\", в інших випадках - \"Такого дня не існує\"."
   ],
   "metadata": {
    "collapsed": false
   },
   "id": "657b021f2787d69d"
  },
  {
   "cell_type": "code",
   "execution_count": 49,
   "outputs": [
    {
     "name": "stdout",
     "output_type": "stream",
     "text": [
      "Сьогодні на роботу!\n"
     ]
    }
   ],
   "source": [
    "day = input(\"Введіть день тижня: \").lower()\n",
    "\n",
    "if day == \"понеділок\" or day == \"вівторок\" or day == \"середа\" or day == \"четвер\" or day == \"п'ятниця\":\n",
    "    print(\"Сьогодні на роботу!\")\n",
    "elif day == \"субота\" or day == \"неділя\":\n",
    "    print(\"Сьогодні вихідний :)\")\n",
    "else:\n",
    "    print(\"Немає такого дня тижня\")"
   ],
   "metadata": {
    "collapsed": false,
    "ExecuteTime": {
     "end_time": "2023-11-16T19:56:13.873173600Z",
     "start_time": "2023-11-16T19:56:05.873477300Z"
    }
   },
   "id": "f041afeadac60043"
  }
 ],
 "metadata": {
  "kernelspec": {
   "display_name": "Python 3",
   "language": "python",
   "name": "python3"
  },
  "language_info": {
   "codemirror_mode": {
    "name": "ipython",
    "version": 2
   },
   "file_extension": ".py",
   "mimetype": "text/x-python",
   "name": "python",
   "nbconvert_exporter": "python",
   "pygments_lexer": "ipython2",
   "version": "2.7.6"
  }
 },
 "nbformat": 4,
 "nbformat_minor": 5
}
