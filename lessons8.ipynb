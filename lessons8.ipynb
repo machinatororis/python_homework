﻿{
 "cells": [
  {
   "cell_type": "markdown",
   "source": [
    "## Функції (частина 1)"
   ],
   "metadata": {
    "collapsed": false
   },
   "id": "dbb590d94781945d"
  },
  {
   "cell_type": "markdown",
   "source": [
    "#### Завдання 1 \n",
    "###### Створіть функцію, яка відображає привітання для користувача із заданим ім'ям. Якщо ім'я не вказано, вона повинна виводити привітання для користувача з Вашим ім'ям."
   ],
   "metadata": {
    "collapsed": false
   },
   "id": "eea0b446acc9b1d4"
  },
  {
   "cell_type": "code",
   "execution_count": 26,
   "outputs": [],
   "source": [
    "def hello(name: str = \"Maria\") -> None:\n",
    "    \"\"\"Displays a greeting for the user with the given name\n",
    "    \n",
    "    required arguments:\n",
    "    name (default Maria)\n",
    "    \n",
    "    return: None\n",
    "    \"\"\"\n",
    "    print(f\"Вітаю, {name.title()}!\")"
   ],
   "metadata": {
    "collapsed": false,
    "ExecuteTime": {
     "end_time": "2023-12-02T19:18:33.243736300Z",
     "start_time": "2023-12-02T19:18:33.233541900Z"
    }
   },
   "id": "650e5ba34e393f52"
  },
  {
   "cell_type": "code",
   "execution_count": 28,
   "outputs": [
    {
     "name": "stdout",
     "output_type": "stream",
     "text": [
      "Вітаю, D!\n"
     ]
    }
   ],
   "source": [
    "user_name = (input(\"Введіть ім'я користувача: \"))\n",
    "\n",
    "if len(user_name) > 0:\n",
    "    hello (user_name)\n",
    "else:\n",
    "    hello()"
   ],
   "metadata": {
    "collapsed": false,
    "ExecuteTime": {
     "end_time": "2023-12-02T19:18:43.110392700Z",
     "start_time": "2023-12-02T19:18:41.275011900Z"
    }
   },
   "id": "b7efce8718902837"
  },
  {
   "cell_type": "markdown",
   "source": [
    "#### Завдання 2 \n",
    "###### Створіть дві функції, що обчислюють значення певних алгебраїчних виразів. На екрані виведіть таблицю значень цих функцій від -5 до 5 з кроком 0.5."
   ],
   "metadata": {
    "collapsed": false
   },
   "id": "b45db51d3d74cf04"
  },
  {
   "cell_type": "code",
   "execution_count": 41,
   "outputs": [],
   "source": [
    "def f1(x):    \n",
    "    return x * 2\n",
    "    \n",
    "def f2(x):    \n",
    "    return x * 3"
   ],
   "metadata": {
    "collapsed": false,
    "ExecuteTime": {
     "end_time": "2023-12-02T19:33:20.873286300Z",
     "start_time": "2023-12-02T19:33:20.849044Z"
    }
   },
   "id": "c2edd948e5890abf"
  },
  {
   "cell_type": "code",
   "execution_count": 42,
   "outputs": [
    {
     "name": "stdout",
     "output_type": "stream",
     "text": [
      "i = -4.5, function1 (x * 2) = -9.0, function2 (x * 3) = -13.5\n",
      "i = -4.0, function1 (x * 2) = -8.0, function2 (x * 3) = -12.0\n",
      "i = -3.5, function1 (x * 2) = -7.0, function2 (x * 3) = -10.5\n",
      "i = -3.0, function1 (x * 2) = -6.0, function2 (x * 3) = -9.0\n",
      "i = -2.5, function1 (x * 2) = -5.0, function2 (x * 3) = -7.5\n",
      "i = -2.0, function1 (x * 2) = -4.0, function2 (x * 3) = -6.0\n",
      "i = -1.5, function1 (x * 2) = -3.0, function2 (x * 3) = -4.5\n",
      "i = -1.0, function1 (x * 2) = -2.0, function2 (x * 3) = -3.0\n",
      "i = -0.5, function1 (x * 2) = -1.0, function2 (x * 3) = -1.5\n",
      "i = 0.0, function1 (x * 2) = 0.0, function2 (x * 3) = 0.0\n",
      "i = 0.5, function1 (x * 2) = 1.0, function2 (x * 3) = 1.5\n",
      "i = 1.0, function1 (x * 2) = 2.0, function2 (x * 3) = 3.0\n",
      "i = 1.5, function1 (x * 2) = 3.0, function2 (x * 3) = 4.5\n",
      "i = 2.0, function1 (x * 2) = 4.0, function2 (x * 3) = 6.0\n",
      "i = 2.5, function1 (x * 2) = 5.0, function2 (x * 3) = 7.5\n",
      "i = 3.0, function1 (x * 2) = 6.0, function2 (x * 3) = 9.0\n",
      "i = 3.5, function1 (x * 2) = 7.0, function2 (x * 3) = 10.5\n",
      "i = 4.0, function1 (x * 2) = 8.0, function2 (x * 3) = 12.0\n",
      "i = 4.5, function1 (x * 2) = 9.0, function2 (x * 3) = 13.5\n",
      "i = 5.0, function1 (x * 2) = 10.0, function2 (x * 3) = 15.0\n"
     ]
    }
   ],
   "source": [
    "i = -5\n",
    "while i < 5:\n",
    "    i += 0.5\n",
    "    a = f1(i)\n",
    "    b = f2(i)\n",
    "    print(f\"i = {i}, function1 (x * 2) = {a}, function2 (x * 3) = {b}\")"
   ],
   "metadata": {
    "collapsed": false,
    "ExecuteTime": {
     "end_time": "2023-12-02T19:33:22.496760500Z",
     "start_time": "2023-12-02T19:33:22.486503400Z"
    }
   },
   "id": "450ed5ad7c0c9309"
  },
  {
   "cell_type": "markdown",
   "source": [
    "#### Завдання 3 \n",
    "###### Створіть програму-калькулятор, яка підтримує наступні операції: додавання, віднімання, множення, ділення, зведення в ступінь, зведення до квадратного та кубічного коренів. Всі дані повинні вводитися в циклі, доки користувач не вкаже, що хоче завершити виконання програми. Кожна операція має бути реалізована у вигляді окремої функції. Функція ділення повинна перевіряти дані на коректність та видавати повідомлення про помилку у разі спроби поділу на нуль."
   ],
   "metadata": {
    "collapsed": false
   },
   "id": "7b7c208844d9f517"
  },
  {
   "cell_type": "code",
   "execution_count": null,
   "outputs": [],
   "source": [],
   "metadata": {
    "collapsed": false,
    "is_executing": true
   },
   "id": "7ceb04ce1f62b55b"
  },
  {
   "cell_type": "markdown",
   "source": [
    "#### Завдання 4 \n",
    "###### Створіть програму, яка складається з функції, яка приймає три числа і повертає їх середнє арифметичне, і головного циклу, що запитує у користувача числа і обчислює їх середні значення за допомогою створеної функції. "
   ],
   "metadata": {
    "collapsed": false
   },
   "id": "f5e9615ff0c1d66"
  }
 ],
 "metadata": {
  "kernelspec": {
   "display_name": "Python 3",
   "language": "python",
   "name": "python3"
  },
  "language_info": {
   "codemirror_mode": {
    "name": "ipython",
    "version": 2
   },
   "file_extension": ".py",
   "mimetype": "text/x-python",
   "name": "python",
   "nbconvert_exporter": "python",
   "pygments_lexer": "ipython2",
   "version": "2.7.6"
  }
 },
 "nbformat": 4,
 "nbformat_minor": 5
}
