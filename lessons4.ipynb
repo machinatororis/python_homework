{
 "cells": [
  {
   "cell_type": "markdown",
   "source": [
    "## Циклічні конструкціі"
   ],
   "metadata": {
    "collapsed": false
   },
   "id": "9b2bb83c9d578a63"
  },
  {
   "cell_type": "markdown",
   "source": [
    "#### Завдання 1 \n",
    "###### Дано числа a і b (a < b). Виведіть суму всіх натуральних чисел від a до b (включно)."
   ],
   "metadata": {
    "collapsed": false
   },
   "id": "e580ae5edd66aaff"
  },
  {
   "cell_type": "code",
   "execution_count": 58,
   "outputs": [
    {
     "name": "stdout",
     "output_type": "stream",
     "text": [
      "7\n"
     ]
    }
   ],
   "source": [
    "a = 3\n",
    "b = 4\n",
    "res = 0\n",
    "for i in range(a, b + 1):\n",
    "    res += i\n",
    "print(res)\n"
   ],
   "metadata": {
    "collapsed": false,
    "ExecuteTime": {
     "end_time": "2023-11-26T19:45:09.060566100Z",
     "start_time": "2023-11-26T19:45:09.030368400Z"
    }
   },
   "id": "cb1d6e3ec6088244"
  },
  {
   "cell_type": "markdown",
   "source": [
    "#### Завдання 2 \n",
    "###### Факторіалом числа n називається число n!=1∙2∙3∙…∙n. Створіть програму, яка обчислює факторіал введеного користувачем числа. "
   ],
   "metadata": {
    "collapsed": false
   },
   "id": "95f79db1447baeb"
  },
  {
   "cell_type": "code",
   "execution_count": 44,
   "outputs": [
    {
     "name": "stdout",
     "output_type": "stream",
     "text": [
      "Факторіал 3: 6\n"
     ]
    }
   ],
   "source": [
    "n = int(input(\"Введіть число\"))\n",
    "fact = 1\n",
    " \n",
    "for i in range(1, n+1):\n",
    "    fact = fact * i\n",
    " \n",
    "print(f\"Факторіал {n}: {fact}\")\n"
   ],
   "metadata": {
    "collapsed": false,
    "ExecuteTime": {
     "end_time": "2023-11-26T17:56:58.061508300Z",
     "start_time": "2023-11-26T17:56:48.779205Z"
    }
   },
   "id": "3890067e037a5a13"
  },
  {
   "cell_type": "markdown",
   "source": [
    "#### Завдання 3 \n",
    "###### Використовуючи вкладені цикли та функції print(‘*’, end=’’), print(‘ ‘, end=’’) та print() виведіть на екран прямокутний трикутник"
   ],
   "metadata": {
    "collapsed": false
   },
   "id": "239bd862569bc8ba"
  },
  {
   "cell_type": "code",
   "execution_count": 45,
   "outputs": [
    {
     "name": "stdout",
     "output_type": "stream",
     "text": [
      "*\n",
      "**\n",
      "***\n",
      "**\n",
      "*\n"
     ]
    }
   ],
   "source": [
    "n = int(input(\"Введіть число\"))\n",
    "for i in range(n // 2 + 1):\n",
    "    print ((i + 1) * \"*\")\n",
    "for i in range(n // 2 + 1):\n",
    "    print ((n // 2 - i) * \"*\")\n",
    "    "
   ],
   "metadata": {
    "collapsed": false,
    "ExecuteTime": {
     "end_time": "2023-11-26T17:57:05.308475900Z",
     "start_time": "2023-11-26T17:56:58.006360100Z"
    }
   },
   "id": "e7e5f275626e1eb9"
  },
  {
   "cell_type": "markdown",
   "source": [
    "#### Завдання 4 \n",
    "###### Дано числа a і b (a < b). Виведіть на екран суму всіх натуральних чисел від a до b (включно), які є кратними середньому арифметичному цього проміжку. "
   ],
   "metadata": {
    "collapsed": false
   },
   "id": "66d4e2443f9e6d74"
  },
  {
   "cell_type": "code",
   "execution_count": 57,
   "outputs": [
    {
     "name": "stdout",
     "output_type": "stream",
     "text": [
      "Довжина проміжку: 7, Сумма: 42, Сер. арифметичне: 6\n",
      "Сумма чисел, кратних середньому арифметичному проміжку: 6\n"
     ]
    }
   ],
   "source": [
    "a = 3\n",
    "b = 9\n",
    "total_sum = 0\n",
    "length = 0\n",
    "res = 0\n",
    "\n",
    "\n",
    "for i in range(a, b + 1): \n",
    "    total_sum += i\n",
    "    length += 1\n",
    "avg = int(total_sum / length)\n",
    "print(f\"Довжина проміжку: {length}, Сумма: {total_sum}, Сер. арифметичне: {avg}\")\n",
    "\n",
    "\n",
    "for i in range(a, b + 1):\n",
    "    if i % avg == 0:\n",
    "        res += i\n",
    "print(f\"Сумма чисел, кратних середньому арифметичному проміжку: {res}\")\n"
   ],
   "metadata": {
    "collapsed": false,
    "ExecuteTime": {
     "end_time": "2023-11-26T19:44:06.622657500Z",
     "start_time": "2023-11-26T19:44:06.599426300Z"
    }
   },
   "id": "ee1b9f44f0e480c6"
  },
  {
   "cell_type": "markdown",
   "source": [
    "#### Завдання 5 \n",
    "###### Створіть програму, яка малює на екрані прямокутник із зірочок заданою користувачем ширини та висоти "
   ],
   "metadata": {
    "collapsed": false
   },
   "id": "a4fa15d3fc4377e8"
  },
  {
   "cell_type": "code",
   "execution_count": 49,
   "outputs": [
    {
     "name": "stdout",
     "output_type": "stream",
     "text": [
      "******\n",
      "*    *\n",
      "******\n"
     ]
    }
   ],
   "source": [
    "a = int(input())\n",
    "b = int(input())\n",
    "print(a * \"*\")\n",
    "for i in range(b - 2):\n",
    "    print(\"*\", ' ' * (a - 2), \"*\", sep='')\n",
    "print(a * \"*\")"
   ],
   "metadata": {
    "collapsed": false,
    "ExecuteTime": {
     "end_time": "2023-11-26T18:04:33.047441400Z",
     "start_time": "2023-11-26T18:04:28.496815800Z"
    }
   },
   "id": "7cb6aa2c2904eac7"
  },
  {
   "cell_type": "markdown",
   "source": [
    "#### Завдання 6\n",
    "###### Створіть програму авторизації, в якій користувачеві дається 3 спроби ввести свої облікові дані (логін та пароль). Якщо користувач за меншу кількість спроб ввів вірні дані, програма достроково припиняє своє виконання та виводить на екран повідомлення: «Авторизацію успішно пройдено з «№» спроби»."
   ],
   "metadata": {
    "collapsed": false
   },
   "id": "11bb83c77eeda822"
  },
  {
   "cell_type": "code",
   "execution_count": 62,
   "outputs": [
    {
     "name": "stdout",
     "output_type": "stream",
     "text": [
      "Не вірний логін або пароль. Спробуйте знову.\n",
      "Не вірний логін або пароль. Спробуйте знову.\n",
      "Авторизацію успішно пройдено з 3 спроби\n"
     ]
    }
   ],
   "source": [
    "user_try = 0\n",
    "\n",
    "for i in range(3):\n",
    "    login = (input(\"Введіть логін (правильний логін - admin):\"))\n",
    "    password = (input(\"Введіть пароль (правильний пароль - pass):\"))\n",
    "    user_try += 1\n",
    "    \n",
    "    if login == \"admin\" and password == \"pass\":\n",
    "        print(f\"Авторизацію успішно пройдено з {user_try} спроби\")\n",
    "        break\n",
    "    else:\n",
    "        print(\"Не вірний логін або пароль. Спробуйте знову.\")\n",
    "else: \n",
    "    print(\"Ви не пройшли авторизацію. Спробуйте знову.\")  \n"
   ],
   "metadata": {
    "collapsed": false,
    "ExecuteTime": {
     "end_time": "2023-11-26T19:51:25.550744900Z",
     "start_time": "2023-11-26T19:51:11.674624400Z"
    }
   },
   "id": "7613768fadb873b1"
  }
 ],
 "metadata": {
  "kernelspec": {
   "display_name": "Python 3",
   "language": "python",
   "name": "python3"
  },
  "language_info": {
   "codemirror_mode": {
    "name": "ipython",
    "version": 2
   },
   "file_extension": ".py",
   "mimetype": "text/x-python",
   "name": "python",
   "nbconvert_exporter": "python",
   "pygments_lexer": "ipython2",
   "version": "2.7.6"
  }
 },
 "nbformat": 4,
 "nbformat_minor": 5
}
